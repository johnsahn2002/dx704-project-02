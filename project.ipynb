{
  "cells": [
    {
      "cell_type": "markdown",
      "metadata": {
        "id": "7aZ_blKrRZ3H"
      },
      "source": [
        "# DX 704 Week 2 Project\n",
        "\n",
        "This week's project will analyze fresh strawberry price data for a hypothetical \"buy low, freeze, and sell high\" business.\n",
        "Strawberries show strong seasonality in their prices compared to other fruits.\n",
        "\n",
        "![](https://ers.usda.gov/sites/default/files/_laserfiche/Charts/61401/oct14_finding_plattner_fig01.png)\n",
        "\n",
        "Image source: https://www.ers.usda.gov/amber-waves/2014/october/seasonal-fresh-fruit-price-patterns-differ-across-commodities-the-case-of-strawberries-and-apples\n",
        "\n",
        "You are considering a business where you buy strawberries when the prices are very low, carefully freeze them, even more carefully defrost them, and then sell them when the prices are high.\n",
        "You will forecast strawberry price time series and then use them to tactically pick times to buy, freeze, and sell the strawberries."
      ]
    },
    {
      "cell_type": "markdown",
      "metadata": {
        "id": "g1rddBd6_teG"
      },
      "source": [
        "The full project description, a template notebook, and raw data are available on GitHub at the following link.\n",
        "\n",
        "https://github.com/bu-cds-dx704/dx704-project-02\n"
      ]
    },
    {
      "cell_type": "markdown",
      "metadata": {},
      "source": [
        "### Example Code\n",
        "\n",
        "You may find it helpful to refer to these GitHub repositories of Jupyter notebooks for example code.\n",
        "\n",
        "* https://github.com/bu-cds-omds/dx601-examples\n",
        "* https://github.com/bu-cds-omds/dx602-examples\n",
        "* https://github.com/bu-cds-omds/dx603-examples\n",
        "* https://github.com/bu-cds-omds/dx704-examples\n",
        "\n",
        "Any calculations demonstrated in code examples or videos may be found in these notebooks, and you are allowed to copy this example code in your homework answers."
      ]
    },
    {
      "cell_type": "markdown",
      "metadata": {
        "id": "B7jHqNiZBXzD"
      },
      "source": [
        "## Part 1: Backtest Strawberry Prices\n",
        "\n",
        "Read the provided \"strawberry-prices.tsv\" with data from 2020 through 2024.\n",
        "This data is based on data from the U.S. Bureau of Statistics, but transformed so the ground truth is not online.\n",
        "https://fred.stlouisfed.org/series/APU0000711415\n",
        "\n",
        "Use the data for 2020 through 2023 to predict monthly prices in 2024.\n",
        "Spend some time to make sure you are happy with your methodology and prediction accuracy, since you will reuse the methodology to forecast 2025 next.\n",
        "Save the 2024 backtest predictions as \"strawberry-backtest.tsv\" with columns month and price.\n"
      ]
    },
    {
      "cell_type": "code",
      "execution_count": null,
      "metadata": {
        "id": "T8OLCmHbiaoK"
      },
      "outputs": [
        {
          "data": {
            "text/html": [
              "<div>\n",
              "<style scoped>\n",
              "    .dataframe tbody tr th:only-of-type {\n",
              "        vertical-align: middle;\n",
              "    }\n",
              "\n",
              "    .dataframe tbody tr th {\n",
              "        vertical-align: top;\n",
              "    }\n",
              "\n",
              "    .dataframe thead th {\n",
              "        text-align: right;\n",
              "    }\n",
              "</style>\n",
              "<table border=\"1\" class=\"dataframe\">\n",
              "  <thead>\n",
              "    <tr style=\"text-align: right;\">\n",
              "      <th></th>\n",
              "      <th>month</th>\n",
              "      <th>price</th>\n",
              "    </tr>\n",
              "  </thead>\n",
              "  <tbody>\n",
              "    <tr>\n",
              "      <th>0</th>\n",
              "      <td>2020-01-01</td>\n",
              "      <td>4.0490</td>\n",
              "    </tr>\n",
              "    <tr>\n",
              "      <th>1</th>\n",
              "      <td>2020-02-01</td>\n",
              "      <td>3.6250</td>\n",
              "    </tr>\n",
              "    <tr>\n",
              "      <th>2</th>\n",
              "      <td>2020-03-01</td>\n",
              "      <td>3.3770</td>\n",
              "    </tr>\n",
              "    <tr>\n",
              "      <th>3</th>\n",
              "      <td>2020-04-01</td>\n",
              "      <td>3.2328</td>\n",
              "    </tr>\n",
              "    <tr>\n",
              "      <th>4</th>\n",
              "      <td>2020-05-01</td>\n",
              "      <td>3.1260</td>\n",
              "    </tr>\n",
              "  </tbody>\n",
              "</table>\n",
              "</div>"
            ],
            "text/plain": [
              "        month   price\n",
              "0  2020-01-01  4.0490\n",
              "1  2020-02-01  3.6250\n",
              "2  2020-03-01  3.3770\n",
              "3  2020-04-01  3.2328\n",
              "4  2020-05-01  3.1260"
            ]
          },
          "execution_count": 3,
          "metadata": {},
          "output_type": "execute_result"
        }
      ],
      "source": [
        "# YOUR CHANGES HERE\n",
        "import pandas as pd\n",
        "\n",
        "strawberry_data = pd.read_csv('strawberry-prices.tsv', sep='\\t')\n",
        "strawberry_data.head()\n",
        "\n"
      ]
    },
    {
      "cell_type": "code",
      "execution_count": null,
      "metadata": {},
      "outputs": [
        {
          "name": "stdout",
          "output_type": "stream",
          "text": [
            "Backtest predictions:\n",
            "         month     price\n",
            "48  2024-01-01  4.362750\n",
            "49  2024-02-01  4.091250\n",
            "50  2024-03-01  3.688750\n",
            "51  2024-04-01  3.787200\n",
            "52  2024-05-01  3.526250\n",
            "53  2024-06-01  3.275000\n",
            "54  2024-07-01  3.194000\n",
            "55  2024-08-01  3.489750\n",
            "56  2024-09-01  3.581750\n",
            "57  2024-10-01  3.926000\n",
            "58  2024-11-01  4.398000\n",
            "59  2024-12-01  4.788575\n"
          ]
        }
      ],
      "source": [
        "import numpy as np\n",
        "\n",
        "strawberry_data['month'] = pd.to_datetime(strawberry_data['month'])\n",
        "strawberry_data = strawberry_data.sort_values('month')\n",
        "\n",
        "train = strawberry_data[strawberry_data['month'].dt.year <= 2023]\n",
        "test_dates = strawberry_data[strawberry_data['month'].dt.year == 2024]['month']\n",
        "\n",
        "monthly_avg = train.groupby(train['month'].dt.month)['price'].mean()\n",
        "\n",
        "predictions = []\n",
        "for date in test_dates:\n",
        "    month_num = date.month\n",
        "    pred_price = monthly_avg[month_num]\n",
        "    predictions.append(pred_price)\n",
        "\n",
        "backtest_df = pd.DataFrame({\n",
        "    'month': test_dates.dt.strftime('%Y-%m-%d'),\n",
        "    'price': predictions\n",
        "})\n",
        "\n",
        "# Save to file\n",
        "backtest_df.to_csv('strawberry-backtest.tsv', sep='\\t', index=False, float_format='%.4f')\n",
        "\n",
        "print(\"Backtest predictions:\")\n",
        "print(backtest_df)"
      ]
    },
    {
      "cell_type": "markdown",
      "metadata": {
        "id": "vzTi6z-skMoz"
      },
      "source": [
        "Submit \"strawberry-backtest.tsv\" in Gradescope."
      ]
    },
    {
      "cell_type": "markdown",
      "metadata": {
        "id": "T3D1ItqDnt9c"
      },
      "source": [
        "## Part 2: Backtest Errors\n",
        "\n",
        "What are the mean and standard deviation of the residuals between your backtest predictions and the ground truth? (If your mean is not close to zero, then you may be missing a long term trend.)\n",
        "\n",
        "Write the mean and standard deviation to a file \"backtest-accuracy.tsv\" with two columns, mean and std."
      ]
    },
    {
      "cell_type": "code",
      "execution_count": 6,
      "metadata": {
        "id": "3wxh46v8tnv8"
      },
      "outputs": [
        {
          "data": {
            "text/html": [
              "<div>\n",
              "<style scoped>\n",
              "    .dataframe tbody tr th:only-of-type {\n",
              "        vertical-align: middle;\n",
              "    }\n",
              "\n",
              "    .dataframe tbody tr th {\n",
              "        vertical-align: top;\n",
              "    }\n",
              "\n",
              "    .dataframe thead th {\n",
              "        text-align: right;\n",
              "    }\n",
              "</style>\n",
              "<table border=\"1\" class=\"dataframe\">\n",
              "  <thead>\n",
              "    <tr style=\"text-align: right;\">\n",
              "      <th></th>\n",
              "      <th>mean</th>\n",
              "      <th>std</th>\n",
              "    </tr>\n",
              "  </thead>\n",
              "  <tbody>\n",
              "    <tr>\n",
              "      <th>0</th>\n",
              "      <td>-0.004858</td>\n",
              "      <td>0.274557</td>\n",
              "    </tr>\n",
              "  </tbody>\n",
              "</table>\n",
              "</div>"
            ],
            "text/plain": [
              "       mean       std\n",
              "0 -0.004858  0.274557"
            ]
          },
          "execution_count": 6,
          "metadata": {},
          "output_type": "execute_result"
        }
      ],
      "source": [
        "# YOUR CHANGES HERE\n",
        "\n",
        "df = strawberry_data.copy()\n",
        "df['month'] = pd.to_datetime(df['month'])\n",
        "\n",
        "backtest = pd.read_csv('strawberry-backtest.tsv', sep='\\t')\n",
        "backtest['month'] = pd.to_datetime(backtest['month'])\n",
        "\n",
        "actual_2024 = df[df['month'].dt.year == 2024]\n",
        "\n",
        "merged = pd.merge(actual_2024, backtest, on='month', suffixes=('_actual', '_predicted'))\n",
        "\n",
        "residuals = merged['price_actual'] - merged['price_predicted']\n",
        "\n",
        "mean_residual = residuals.mean()\n",
        "std_residual = residuals.std()\n",
        "\n",
        "accuracy_df = pd.DataFrame({\n",
        "    'mean': [mean_residual],\n",
        "    'std': [std_residual]\n",
        "})\n",
        "\n",
        "accuracy_df.to_csv('backtest-accuracy.tsv', sep='\\t', index=False, float_format='%.6f')\n",
        "accuracy_df"
      ]
    },
    {
      "cell_type": "markdown",
      "metadata": {
        "id": "Cq2d378QtnG9"
      },
      "source": [
        "Submit \"backtest-accuracy.tsv\" in Gradescope."
      ]
    },
    {
      "cell_type": "markdown",
      "metadata": {
        "id": "Pa4DWVrpj5mq"
      },
      "source": [
        "## Part 3: Forecast Strawberry Prices\n",
        "\n",
        "Use all the data from 2020 through 2024 to predict monthly prices in 2025 using the same methodology from part 1.\n",
        "Make a monthly forecast for each month of 2025 and save it as \"strawberry-forecast.tsv\" with columns for month and price."
      ]
    },
    {
      "cell_type": "code",
      "execution_count": 7,
      "metadata": {
        "id": "CiKoW3BrkJiS"
      },
      "outputs": [
        {
          "data": {
            "text/html": [
              "<div>\n",
              "<style scoped>\n",
              "    .dataframe tbody tr th:only-of-type {\n",
              "        vertical-align: middle;\n",
              "    }\n",
              "\n",
              "    .dataframe tbody tr th {\n",
              "        vertical-align: top;\n",
              "    }\n",
              "\n",
              "    .dataframe thead th {\n",
              "        text-align: right;\n",
              "    }\n",
              "</style>\n",
              "<table border=\"1\" class=\"dataframe\">\n",
              "  <thead>\n",
              "    <tr style=\"text-align: right;\">\n",
              "      <th></th>\n",
              "      <th>month</th>\n",
              "      <th>price</th>\n",
              "    </tr>\n",
              "  </thead>\n",
              "  <tbody>\n",
              "    <tr>\n",
              "      <th>0</th>\n",
              "      <td>2025-01-01</td>\n",
              "      <td>4.50120</td>\n",
              "    </tr>\n",
              "    <tr>\n",
              "      <th>1</th>\n",
              "      <td>2025-02-01</td>\n",
              "      <td>4.12580</td>\n",
              "    </tr>\n",
              "    <tr>\n",
              "      <th>2</th>\n",
              "      <td>2025-03-01</td>\n",
              "      <td>3.69940</td>\n",
              "    </tr>\n",
              "    <tr>\n",
              "      <th>3</th>\n",
              "      <td>2025-04-01</td>\n",
              "      <td>3.74496</td>\n",
              "    </tr>\n",
              "    <tr>\n",
              "      <th>4</th>\n",
              "      <td>2025-05-01</td>\n",
              "      <td>3.46840</td>\n",
              "    </tr>\n",
              "    <tr>\n",
              "      <th>5</th>\n",
              "      <td>2025-06-01</td>\n",
              "      <td>3.21540</td>\n",
              "    </tr>\n",
              "    <tr>\n",
              "      <th>6</th>\n",
              "      <td>2025-07-01</td>\n",
              "      <td>3.17840</td>\n",
              "    </tr>\n",
              "    <tr>\n",
              "      <th>7</th>\n",
              "      <td>2025-08-01</td>\n",
              "      <td>3.46120</td>\n",
              "    </tr>\n",
              "    <tr>\n",
              "      <th>8</th>\n",
              "      <td>2025-09-01</td>\n",
              "      <td>3.61380</td>\n",
              "    </tr>\n",
              "    <tr>\n",
              "      <th>9</th>\n",
              "      <td>2025-10-01</td>\n",
              "      <td>3.88440</td>\n",
              "    </tr>\n",
              "    <tr>\n",
              "      <th>10</th>\n",
              "      <td>2025-11-01</td>\n",
              "      <td>4.40240</td>\n",
              "    </tr>\n",
              "    <tr>\n",
              "      <th>11</th>\n",
              "      <td>2025-12-01</td>\n",
              "      <td>4.80226</td>\n",
              "    </tr>\n",
              "  </tbody>\n",
              "</table>\n",
              "</div>"
            ],
            "text/plain": [
              "         month    price\n",
              "0   2025-01-01  4.50120\n",
              "1   2025-02-01  4.12580\n",
              "2   2025-03-01  3.69940\n",
              "3   2025-04-01  3.74496\n",
              "4   2025-05-01  3.46840\n",
              "5   2025-06-01  3.21540\n",
              "6   2025-07-01  3.17840\n",
              "7   2025-08-01  3.46120\n",
              "8   2025-09-01  3.61380\n",
              "9   2025-10-01  3.88440\n",
              "10  2025-11-01  4.40240\n",
              "11  2025-12-01  4.80226"
            ]
          },
          "execution_count": 7,
          "metadata": {},
          "output_type": "execute_result"
        }
      ],
      "source": [
        "# YOUR CHANGES HERE\n",
        "\n",
        "df = strawberry_data.copy()\n",
        "df['month'] = pd.to_datetime(df['month'])\n",
        "df = df.sort_values('month')\n",
        "\n",
        "train = df[(df['month'].dt.year >= 2020) & (df['month'].dt.year <= 2024)]\n",
        "\n",
        "monthly_avg = train.groupby(train['month'].dt.month)['price'].mean()\n",
        "\n",
        "forecast_dates = pd.date_range(start='2025-01-01', end='2025-12-01', freq='MS')\n",
        "\n",
        "predictions = []\n",
        "for date in forecast_dates:\n",
        "    month_num = date.month\n",
        "    pred_price = monthly_avg[month_num]\n",
        "    predictions.append(pred_price)\n",
        "\n",
        "forecast_df = pd.DataFrame({\n",
        "    'month': forecast_dates.strftime('%Y-%m-%d'),\n",
        "    'price': predictions\n",
        "})\n",
        "\n",
        "forecast_df.to_csv('strawberry-forecast.tsv', sep='\\t', index=False, float_format='%.4f')\n",
        "forecast_df"
      ]
    },
    {
      "cell_type": "markdown",
      "metadata": {
        "id": "32lM_MPdico0"
      },
      "source": [
        "Submit \"strawberry-forecast.tsv\" in Gradescope."
      ]
    },
    {
      "cell_type": "markdown",
      "metadata": {
        "id": "SzCWxxaLi8MH"
      },
      "source": [
        "## Part 4: Buy Low, Freeze and Sell High\n",
        "\n",
        "Using your 2025 forecast, analyze the profit picking different pairs of months to buy and sell strawberries.\n",
        "Maximize your profit assuming that it costs &dollar;0.20 per pint to freeze the strawberries, &dollar;0.10 per pint per month to store the frozen strawberries and there is a 10% price discount from selling previously frozen strawberries.\n",
        "So, if you buy a pint of strawberies for &dollar;1, freeze them, and sell them for &dollar;2 three months after buying them, then the profit is &dollar;2 * 0.9 - &dollar;1 - &dollar;0.20 - &dollar;0.10 * 3 = &dollar;0.30 per pint.\n",
        "To evaluate a given pair of months, assume that you can invest &dollar;1,000,000 to cover all costs, and that you buy as many pints of strawberries as possible.\n",
        "\n",
        "Write the results of your analysis to a file \"timings.tsv\" with columns for the buy_month, sell_month, pints_purchased, and expected_profit."
      ]
    },
    {
      "cell_type": "code",
      "execution_count": 8,
      "metadata": {
        "id": "pGWQQvy6nkCk"
      },
      "outputs": [
        {
          "data": {
            "text/html": [
              "<div>\n",
              "<style scoped>\n",
              "    .dataframe tbody tr th:only-of-type {\n",
              "        vertical-align: middle;\n",
              "    }\n",
              "\n",
              "    .dataframe tbody tr th {\n",
              "        vertical-align: top;\n",
              "    }\n",
              "\n",
              "    .dataframe thead th {\n",
              "        text-align: right;\n",
              "    }\n",
              "</style>\n",
              "<table border=\"1\" class=\"dataframe\">\n",
              "  <thead>\n",
              "    <tr style=\"text-align: right;\">\n",
              "      <th></th>\n",
              "      <th>buy_month</th>\n",
              "      <th>sell_month</th>\n",
              "      <th>pints_purchased</th>\n",
              "      <th>expected_profit</th>\n",
              "    </tr>\n",
              "  </thead>\n",
              "  <tbody>\n",
              "    <tr>\n",
              "      <th>62</th>\n",
              "      <td>2025-07</td>\n",
              "      <td>2025-12</td>\n",
              "      <td>257838.283828</td>\n",
              "      <td>114395.111386</td>\n",
              "    </tr>\n",
              "    <tr>\n",
              "      <th>56</th>\n",
              "      <td>2025-06</td>\n",
              "      <td>2025-12</td>\n",
              "      <td>249041.191413</td>\n",
              "      <td>76373.462171</td>\n",
              "    </tr>\n",
              "    <tr>\n",
              "      <th>67</th>\n",
              "      <td>2025-08</td>\n",
              "      <td>2025-12</td>\n",
              "      <td>246232.640599</td>\n",
              "      <td>64234.708953</td>\n",
              "    </tr>\n",
              "    <tr>\n",
              "      <th>71</th>\n",
              "      <td>2025-09</td>\n",
              "      <td>2025-12</td>\n",
              "      <td>243084.253002</td>\n",
              "      <td>50627.157373</td>\n",
              "    </tr>\n",
              "    <tr>\n",
              "      <th>61</th>\n",
              "      <td>2025-07</td>\n",
              "      <td>2025-11</td>\n",
              "      <td>264662.290917</td>\n",
              "      <td>48634.342579</td>\n",
              "    </tr>\n",
              "    <tr>\n",
              "      <th>...</th>\n",
              "      <td>...</td>\n",
              "      <td>...</td>\n",
              "      <td>...</td>\n",
              "      <td>...</td>\n",
              "    </tr>\n",
              "    <tr>\n",
              "      <th>17</th>\n",
              "      <td>2025-02</td>\n",
              "      <td>2025-07</td>\n",
              "      <td>207219.528368</td>\n",
              "      <td>-407236.105931</td>\n",
              "    </tr>\n",
              "    <tr>\n",
              "      <th>8</th>\n",
              "      <td>2025-01</td>\n",
              "      <td>2025-09</td>\n",
              "      <td>181778.521050</td>\n",
              "      <td>-408779.902567</td>\n",
              "    </tr>\n",
              "    <tr>\n",
              "      <th>7</th>\n",
              "      <td>2025-01</td>\n",
              "      <td>2025-08</td>\n",
              "      <td>185144.042065</td>\n",
              "      <td>-423261.497445</td>\n",
              "    </tr>\n",
              "    <tr>\n",
              "      <th>5</th>\n",
              "      <td>2025-01</td>\n",
              "      <td>2025-06</td>\n",
              "      <td>192263.323848</td>\n",
              "      <td>-443616.857648</td>\n",
              "    </tr>\n",
              "    <tr>\n",
              "      <th>6</th>\n",
              "      <td>2025-01</td>\n",
              "      <td>2025-07</td>\n",
              "      <td>188636.535124</td>\n",
              "      <td>-460393.873085</td>\n",
              "    </tr>\n",
              "  </tbody>\n",
              "</table>\n",
              "<p>78 rows × 4 columns</p>\n",
              "</div>"
            ],
            "text/plain": [
              "   buy_month sell_month  pints_purchased  expected_profit\n",
              "62   2025-07    2025-12    257838.283828    114395.111386\n",
              "56   2025-06    2025-12    249041.191413     76373.462171\n",
              "67   2025-08    2025-12    246232.640599     64234.708953\n",
              "71   2025-09    2025-12    243084.253002     50627.157373\n",
              "61   2025-07    2025-11    264662.290917     48634.342579\n",
              "..       ...        ...              ...              ...\n",
              "17   2025-02    2025-07    207219.528368   -407236.105931\n",
              "8    2025-01    2025-09    181778.521050   -408779.902567\n",
              "7    2025-01    2025-08    185144.042065   -423261.497445\n",
              "5    2025-01    2025-06    192263.323848   -443616.857648\n",
              "6    2025-01    2025-07    188636.535124   -460393.873085\n",
              "\n",
              "[78 rows x 4 columns]"
            ]
          },
          "execution_count": 8,
          "metadata": {},
          "output_type": "execute_result"
        }
      ],
      "source": [
        "# YOUR CHANGES HERE\n",
        "\n",
        "forecast = pd.read_csv('strawberry-forecast.tsv', sep='\\t')\n",
        "forecast['month'] = pd.to_datetime(forecast['month'])\n",
        "\n",
        "INVESTMENT = 1000000  \n",
        "FREEZE_COST = 0.20    \n",
        "STORAGE_COST = 0.10   \n",
        "DISCOUNT = 0.9       \n",
        "\n",
        "results = []\n",
        "\n",
        "for buy_idx, buy_row in forecast.iterrows():\n",
        "    buy_month = buy_row['month']\n",
        "    buy_price = buy_row['price']\n",
        "    \n",
        "    for sell_idx, sell_row in forecast.iterrows():\n",
        "        sell_month = sell_row['month']\n",
        "        sell_price = sell_row['price']\n",
        "        \n",
        "        if sell_month >= buy_month:\n",
        "            months_stored = (sell_month.year - buy_month.year) * 12 + (sell_month.month - buy_month.month)\n",
        "            \n",
        "            total_cost_per_pint = buy_price + FREEZE_COST + (STORAGE_COST * months_stored)\n",
        "            \n",
        "            if months_stored > 0:  \n",
        "                revenue_per_pint = sell_price * DISCOUNT\n",
        "            else:  \n",
        "                revenue_per_pint = sell_price\n",
        "                total_cost_per_pint = buy_price  \n",
        "\n",
        "            profit_per_pint = revenue_per_pint - total_cost_per_pint\n",
        "            \n",
        "            if total_cost_per_pint > 0:\n",
        "                pints_purchased = INVESTMENT / total_cost_per_pint\n",
        "                total_profit = profit_per_pint * pints_purchased\n",
        "            else:\n",
        "                pints_purchased = 0\n",
        "                total_profit = 0\n",
        "            \n",
        "            results.append({\n",
        "                'buy_month': buy_month.strftime('%Y-%m'),\n",
        "                'sell_month': sell_month.strftime('%Y-%m'), \n",
        "                'pints_purchased': pints_purchased,\n",
        "                'expected_profit': total_profit\n",
        "            })\n",
        "\n",
        "results_df = pd.DataFrame(results)\n",
        "\n",
        "results_df = results_df.sort_values('expected_profit', ascending=False)\n",
        "\n",
        "results_df.to_csv('timings.tsv', sep='\\t', index=False, float_format='%.2f')\n",
        "\n",
        "results_df\n"
      ]
    },
    {
      "cell_type": "markdown",
      "metadata": {
        "id": "XAWzFd54nlxI"
      },
      "source": [
        "Submit \"timings.tsv\" in Gradescope."
      ]
    },
    {
      "cell_type": "markdown",
      "metadata": {
        "id": "LdrZE8qKCDUv"
      },
      "source": [
        "## Part 5: Strategy Check\n",
        "\n",
        "What is the best profit scenario according to your previous timing analysis?\n",
        "How much does that profit change if the sell price is off by one standard deviation from your backtest analysis?\n",
        "(Variation in the sell price is more dangerous because you can see the buy price before fully committing.)\n",
        "\n",
        "Write the results to a file \"check.tsv\" with columns best_profit and one_std_profit."
      ]
    },
    {
      "cell_type": "code",
      "execution_count": 9,
      "metadata": {
        "id": "7HvYBo_wt8Rv"
      },
      "outputs": [],
      "source": [
        "# YOUR CHANGES HERE\n",
        "\n",
        "\n",
        "timings = pd.read_csv('timings.tsv', sep='\\t')\n",
        "\n",
        "accuracy = pd.read_csv('backtest-accuracy.tsv', sep='\\t')\n",
        "std_deviation = accuracy['std'].iloc[0]\n",
        "\n",
        "best_scenario = timings.iloc[0]  \n",
        "best_profit = best_scenario['expected_profit']\n",
        "buy_month = best_scenario['buy_month']\n",
        "sell_month = best_scenario['sell_month']\n",
        "pints_purchased = best_scenario['pints_purchased']\n",
        "\n",
        "\n",
        "forecast = pd.read_csv('strawberry-forecast.tsv', sep='\\t')\n",
        "forecast['month'] = pd.to_datetime(forecast['month'])\n",
        "forecast['month_str'] = forecast['month'].dt.strftime('%Y-%m')\n",
        "\n",
        "original_sell_price = forecast[forecast['month_str'] == sell_month]['price'].iloc[0]\n",
        "\n",
        "sell_price_minus_std = original_sell_price - std_deviation\n",
        "\n",
        "\n",
        "buy_price = forecast[forecast['month_str'] == buy_month]['price'].iloc[0]\n",
        "\n",
        "buy_date = pd.to_datetime(buy_month + '-01')\n",
        "sell_date = pd.to_datetime(sell_month + '-01')\n",
        "months_stored = (sell_date.year - buy_date.year) * 12 + (sell_date.month - buy_date.month)\n",
        "\n",
        "# Constants\n",
        "FREEZE_COST = 0.20\n",
        "STORAGE_COST = 0.10\n",
        "DISCOUNT = 0.9\n",
        "INVESTMENT = 1000000\n",
        "\n",
        "if months_stored > 0:\n",
        "    total_cost_per_pint = buy_price + FREEZE_COST + (STORAGE_COST * months_stored)\n",
        "    revenue_per_pint_adjusted = sell_price_minus_std * DISCOUNT\n",
        "else:\n",
        "    total_cost_per_pint = buy_price\n",
        "    revenue_per_pint_adjusted = sell_price_minus_std\n",
        "\n",
        "profit_per_pint_adjusted = revenue_per_pint_adjusted - total_cost_per_pint\n",
        "total_profit_adjusted = profit_per_pint_adjusted * pints_purchased\n",
        "\n",
        "# Create results dataframe\n",
        "check_df = pd.DataFrame({\n",
        "    'best_profit': [best_profit],\n",
        "    'one_std_profit': [total_profit_adjusted]\n",
        "})\n",
        "\n",
        "# Save to file\n",
        "check_df.to_csv('check.tsv', sep='\\t', index=False, float_format='%.2f')"
      ]
    },
    {
      "cell_type": "markdown",
      "metadata": {
        "id": "M--8x-ZMEKAi"
      },
      "source": [
        "Submit \"check.tsv\" in Gradescope."
      ]
    },
    {
      "cell_type": "markdown",
      "metadata": {
        "id": "usYg0VtaqrGN"
      },
      "source": [
        "## Part 6: Acknowledgments\n",
        "\n",
        "Make a file \"acknowledgments.txt\" documenting any outside sources or help on this project.\n",
        "If you discussed this assignment with anyone, please acknowledge them here.\n",
        "If you used any libraries not mentioned in this module's content, please list them with a brief explanation what you used them for.\n",
        "If you used any generative AI tools, please add links to your transcripts below, and any other information that you feel is necessary to comply with the generative AI policy.\n",
        "If no acknowledgments are appropriate, just write none in the file.\n"
      ]
    },
    {
      "cell_type": "markdown",
      "metadata": {
        "id": "dZdLWQD8qvVV"
      },
      "source": [
        "Submit \"acknowledgments.txt\" in Gradescope."
      ]
    },
    {
      "cell_type": "markdown",
      "metadata": {
        "id": "n7ls909LqzkL"
      },
      "source": [
        "## Part 7: Code\n",
        "\n",
        "Please submit a Jupyter notebook that can reproduce all your calculations and recreate the previously submitted files.\n",
        "You do not need to provide code for data collection if you did that by manually."
      ]
    },
    {
      "cell_type": "markdown",
      "metadata": {
        "id": "mtgsTYQIq2pB"
      },
      "source": [
        "Submit \"project.ipynb\" in Gradescope."
      ]
    }
  ],
  "metadata": {
    "colab": {
      "toc_visible": false
    },
    "kernelspec": {
      "display_name": "Python 3",
      "name": "python3"
    },
    "language_info": {
      "codemirror_mode": {
        "name": "ipython",
        "version": 3
      },
      "file_extension": ".py",
      "mimetype": "text/x-python",
      "name": "python",
      "nbconvert_exporter": "python",
      "pygments_lexer": "ipython3",
      "version": "3.12.1"
    }
  },
  "nbformat": 4,
  "nbformat_minor": 0
}
